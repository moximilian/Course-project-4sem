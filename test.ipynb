{
 "cells": [
  {
   "attachments": {},
   "cell_type": "markdown",
   "metadata": {},
   "source": [
    "# Тестирование\n",
    "\n",
    "Курсовой проект по дисциплине \"Объектно ориентированное программирование\"  \n",
    "Выполнил Сыров Максим Евгеньевич  \n",
    "Группа 211-361  \n",
    "\n",
    "**Методы:**  \n",
    "ВНИМАНИЕ: **Папка с Вашими книгами копируется в папку репозитория**  \n",
    "Программа сама найдет папку с книгами и добавит их на веб-сайт  \n",
    "\n",
    "Запустить всё:  \n",
    "- `$ python reader.py start_all ANY_TEXT`\n",
    "  - http://localhost:8080/\n",
    "\n",
    "Проверить на повтор книги в папке:  \n",
    "- `$ python reader.py check_repeated_books BOOKS_PATH`\n",
    "\n",
    "Распарсить книги и добавить их в бд:  \n",
    "- `$ python reader.py process_folder BOOKS_PATH DATABASE_PATH`\n",
    "\n",
    "Запустить веб-приложение с фильтрами в браузере:  \n",
    "- `$ python reader.py start_web_server DATABASE_PATH`\n",
    "  - http://localhost:8080/\n",
    "\n",
    "_Примечание_  \n",
    "  Пути к папкам и файлам на латинице  \n",
    "Пример использования в test.ipynb ## Тестирование консоли  "
   ]
  },
  {
   "attachments": {},
   "cell_type": "markdown",
   "metadata": {},
   "source": [
    "## Тестирование консоли"
   ]
  },
  {
   "cell_type": "code",
   "execution_count": 8,
   "metadata": {},
   "outputs": [
    {
     "name": "stdout",
     "output_type": "stream",
     "text": [
      "usage: reader.py [-h]\n",
      "                 {start_all,check_repeated_books,process_folder,start_web_server}\n",
      "                 ...\n",
      "\n",
      "positional arguments:\n",
      "  {start_all,check_repeated_books,process_folder,start_web_server}\n",
      "\n",
      "options:\n",
      "  -h, --help            show this help message and exit\n"
     ]
    }
   ],
   "source": [
    "!py reader.py -h"
   ]
  },
  {
   "cell_type": "code",
   "execution_count": null,
   "metadata": {},
   "outputs": [],
   "source": [
    "!py reader.py start_all Ok "
   ]
  },
  {
   "cell_type": "code",
   "execution_count": 4,
   "metadata": {},
   "outputs": [
    {
     "name": "stdout",
     "output_type": "stream",
     "text": [
      "\u001b[40m\u001b[35mКнига '1984' повторяется в D://test//my_books 2 раза\n",
      "\u001b[40m\u001b[35mКнига 'Метро 2033' повторяется в D://test//my_books 2 раза, D://test//my_books\\Adventure 1 раза\n"
     ]
    },
    {
     "name": "stderr",
     "output_type": "stream",
     "text": [
      "C:\\Users\\X\\AppData\\Local\\Programs\\Python\\Python311\\Lib\\site-packages\\ebooklib\\epub.py:1395: UserWarning: In the future version we will turn default option ignore_ncx to True.\n",
      "  warnings.warn('In the future version we will turn default option ignore_ncx to True.')\n"
     ]
    }
   ],
   "source": [
    "!py reader.py check_repeated_books \"D:\\\\test\\\\my_books\" "
   ]
  },
  {
   "cell_type": "code",
   "execution_count": 1,
   "metadata": {},
   "outputs": [
    {
     "name": "stdout",
     "output_type": "stream",
     "text": [
      "D:/test/my_books D:/test/database8.db\n",
      "\u001b[36mПроизошло обновление книги \"1984\"\n",
      "\u001b[33mДля книги D:/test/my_books\\1984.fb2 создано превью тут: D:/test/my_books\\1984.jpg\n",
      "\u001b[36mПроизошло обновление книги \"Идиот\"\n",
      "\u001b[33mДля книги D:/test/my_books\\idiot.epub создано превью тут: D:/test/my_books\\idiot.jpg\n",
      "\u001b[36mПроизошло обновление книги \"Идиот\"\n",
      "\u001b[33mДля книги D:/test/my_books\\idiot.pdf создано превью тут: D:/test/my_books\\idiot.jpg\n",
      "\u001b[36mПроизошло обновление книги \"Метро 2033\"\n",
      "\u001b[33mДля книги D:/test/my_books\\Metro-2033.epub создано превью тут: D:/test/my_books\\Metro-2033.jpg\n",
      "\u001b[36mПроизошло обновление книги \"Метро 2033\"\n",
      "\u001b[33mДля книги D:/test/my_books\\Metro-2033.pdf создано превью тут: D:/test/my_books\\Metro-2033.jpg\n",
      "\u001b[36mПроизошло обновление книги \"D:/test/my_books\\Metro-2034.txt\"\n",
      "\u001b[36mПроизошло обновление книги \"Преступление и наказание\"\n",
      "\u001b[33mДля книги D:/test/my_books\\prestuplenie-i-nakazanie.epub создано превью тут: D:/test/my_books\\prestuplenie-i-nakazanie.jpg\n",
      "\u001b[36mПроизошло обновление книги \"Три товарища\"\n",
      "\u001b[33mДля книги D:/test/my_books\\Three_comrades.epub создано превью тут: D:/test/my_books\\Three_comrades.jpg\n"
     ]
    },
    {
     "name": "stderr",
     "output_type": "stream",
     "text": [
      "C:\\Users\\X\\AppData\\Local\\Programs\\Python\\Python311\\Lib\\site-packages\\ebooklib\\epub.py:1395: UserWarning: In the future version we will turn default option ignore_ncx to True.\n",
      "  warnings.warn('In the future version we will turn default option ignore_ncx to True.')\n"
     ]
    }
   ],
   "source": [
    "!py reader.py process_folder D:/test/my_books D:/test/database8.db"
   ]
  },
  {
   "cell_type": "code",
   "execution_count": 6,
   "metadata": {},
   "outputs": [
    {
     "name": "stdout",
     "output_type": "stream",
     "text": [
      "^C\n"
     ]
    }
   ],
   "source": [
    "!py reader.py start_web_server \"../../test/database8.db \""
   ]
  }
 ],
 "metadata": {
  "kernelspec": {
   "display_name": "Python 3",
   "language": "python",
   "name": "python3"
  },
  "language_info": {
   "codemirror_mode": {
    "name": "ipython",
    "version": 3
   },
   "file_extension": ".py",
   "mimetype": "text/x-python",
   "name": "python",
   "nbconvert_exporter": "python",
   "pygments_lexer": "ipython3",
   "version": "3.11.2"
  },
  "orig_nbformat": 4
 },
 "nbformat": 4,
 "nbformat_minor": 2
}
