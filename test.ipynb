{
 "cells": [
  {
   "attachments": {},
   "cell_type": "markdown",
   "metadata": {},
   "source": [
    "# Тестирование"
   ]
  },
  {
   "attachments": {},
   "cell_type": "markdown",
   "metadata": {},
   "source": [
    "## Тестирование участков кода"
   ]
  },
  {
   "cell_type": "code",
   "execution_count": 3,
   "metadata": {},
   "outputs": [
    {
     "name": "stdout",
     "output_type": "stream",
     "text": [
      "utf-8\n",
      "\n",
      "utf-8\n",
      "\n",
      "Книга \"1984\" повторяется в ./my_books/|./my_books/ местах \n",
      "Книга \"Метро 2033\" повторяется в ./my_books/|./my_books/|./my_books/advanture местах \n"
     ]
    },
    {
     "name": "stderr",
     "output_type": "stream",
     "text": [
      "c:\\Users\\X\\AppData\\Local\\Programs\\Python\\Python311\\Lib\\site-packages\\ebooklib\\epub.py:1395: UserWarning: In the future version we will turn default option ignore_ncx to True.\n",
      "  warnings.warn('In the future version we will turn default option ignore_ncx to True.')\n"
     ]
    }
   ],
   "source": [
    "import os\n",
    "from version1_0 import Book\n",
    "def check_repeated_path(books, item):\n",
    "    indexes = []\n",
    "    for i,n in enumerate(books):\n",
    "        if books[i][0] == item:\n",
    "            indexes.append(i)\n",
    "    if len(indexes)>1:\n",
    "        return indexes\n",
    "\n",
    "def check_repeated_books(folder_path):\n",
    "    \"\"\"Process all books in the given folder and its subfolders\"\"\"\n",
    "    books = []\n",
    "    repeated_dirs = []\n",
    "    for root, dirs, files in os.walk(folder_path):\n",
    "        for file in files:\n",
    "            path = os.path.join(root, file)\n",
    "            book = Book(path)\n",
    "            book_title = book.extract_metadata()\n",
    "            books.append([book_title,root])\n",
    "    printed = []\n",
    "    \n",
    "    for book in books:\n",
    "        direction = []\n",
    "        repeated_books = check_repeated_path(books,book[0])\n",
    "        if repeated_books and book[0] not in printed:\n",
    "            \n",
    "            for rp in repeated_books:\n",
    "                direction.append(books[rp][1])\n",
    "            print(f'Книга \"{book[0]}\" повторяется в { \"|\".join(direction) } местах ')\n",
    "            printed.append(book[0])\n",
    "            \n",
    "            \n",
    "check_repeated_books('./my_books/')"
   ]
  },
  {
   "cell_type": "code",
   "execution_count": 5,
   "metadata": {},
   "outputs": [
    {
     "data": {
      "text/plain": [
       "'D:\\x04 семестр\\\\Курсовой-проект\\\\my_books.jpg'"
      ]
     },
     "execution_count": 5,
     "metadata": {},
     "output_type": "execute_result"
    }
   ],
   "source": [
    "os.path.splitext('D:\\4 семестр\\Курсовой-проект\\my_books')[0] + '.jpg'"
   ]
  },
  {
   "cell_type": "code",
   "execution_count": 17,
   "metadata": {},
   "outputs": [
    {
     "name": "stdout",
     "output_type": "stream",
     "text": [
      "my_books\\1984 copy.jpg\n",
      "my_books\\1984.jpg\n",
      "my_books\\Metro-2033.jpg\n",
      "my_books\\Metro-2033.jpg\n",
      "my_books\\advanture\\Metro-2033.jpg\n"
     ]
    }
   ],
   "source": [
    "import os\n",
    "from version1_0 import Book\n",
    "\n",
    "def process_book(path):\n",
    "    \"\"\"Process single book and save its information to SQLite database\"\"\"\n",
    "    book = Book(path)\n",
    "    try:\n",
    "        preview_path = os.path.splitext(path)[0] + '.jpg'\n",
    "        return preview_path\n",
    "    except Exception as e:\n",
    "        print(f'Error processing file {path}: {e}')\n",
    "\n",
    "\n",
    "def process_folder(folder_path):\n",
    "    \"\"\"Process all books in the given folder and its subfolders\"\"\"\n",
    "\n",
    "    for root, dirs, files in os.walk(folder_path):\n",
    "        for file in files:\n",
    "            _, ext = os.path.splitext(file)\n",
    "            if ext.lower() not in ['.pdf', '.epub', '.txt','.fb2']:\n",
    "                continue\n",
    "            path = os.path.join(root, file)\n",
    "            print(process_book(path))\n",
    "process_folder('my_books')"
   ]
  },
  {
   "attachments": {},
   "cell_type": "markdown",
   "metadata": {},
   "source": [
    "## Тестирование консоли"
   ]
  },
  {
   "cell_type": "code",
   "execution_count": 10,
   "metadata": {},
   "outputs": [
    {
     "name": "stdout",
     "output_type": "stream",
     "text": [
      "usage: Инструмент исследования данных из файлов с книгами \n",
      "\n",
      "       [-h] FOLDER_PATH DATABASE_PATH\n",
      "\n",
      "Сохраняяет все книги в SQL базу, вытаскивая все мета данные\n",
      "\n",
      "positional arguments:\n",
      "  FOLDER_PATH    Путь к папке с книгами\n",
      "  DATABASE_PATH  Путь к файлу базы данных\n",
      "\n",
      "options:\n",
      "  -h, --help     show this help message and exit\n",
      "\n",
      "(c) Максим Сыров 211-361\n"
     ]
    }
   ],
   "source": [
    "!py reader.py -h"
   ]
  },
  {
   "cell_type": "code",
   "execution_count": 8,
   "metadata": {},
   "outputs": [
    {
     "name": "stdout",
     "output_type": "stream",
     "text": [
      "\u001b[36mПроизошло обновление книги \"1984\"\n",
      "\u001b[33mДля книги D:\\test\\my_books\\1984 — копия.fb2 создано превью тут: D:\\test\\my_books\\1984 — копия.jpg\n",
      "\u001b[36mПроизошло обновление книги \"1984\"\n",
      "\u001b[33mДля книги D:\\test\\my_books\\1984.fb2 создано превью тут: D:\\test\\my_books\\1984.jpg\n",
      "\u001b[36mПроизошло обновление книги \"Метро 2033\"\n",
      "\u001b[33mДля книги D:\\test\\my_books\\Metro-2033.epub создано превью тут: D:\\test\\my_books\\Metro-2033.jpg\n",
      "\u001b[36mПроизошло обновление книги \"Метро 2033\"\n",
      "\u001b[33mДля книги D:\\test\\my_books\\Metro-2033.pdf создано превью тут: D:\\test\\my_books\\Metro-2033.jpg\n",
      "\u001b[36mПроизошло обновление книги \"Метро 2033\"\n",
      "\u001b[31mПроскочила не электронная книжка\n",
      "\u001b[31mПроскочила не электронная книжка\n",
      "\u001b[31mПроскочила не электронная книжка\n",
      "\u001b[40m\u001b[35mКнига \"1984\" повторяется в D:\\test\\my_books|D:\\test\\my_books\n",
      "\u001b[40m\u001b[35mКнига \"Метро 2033\" повторяется в D:\\test\\my_books|D:\\test\\my_books|D:\\test\\my_books\n"
     ]
    }
   ],
   "source": [
    "!py reader.py \"D:\\test\\my_books\" \"D:\\test\\database.db\""
   ]
  }
 ],
 "metadata": {
  "kernelspec": {
   "display_name": "Python 3",
   "language": "python",
   "name": "python3"
  },
  "language_info": {
   "codemirror_mode": {
    "name": "ipython",
    "version": 3
   },
   "file_extension": ".py",
   "mimetype": "text/x-python",
   "name": "python",
   "nbconvert_exporter": "python",
   "pygments_lexer": "ipython3",
   "version": "3.11.2"
  },
  "orig_nbformat": 4
 },
 "nbformat": 4,
 "nbformat_minor": 2
}
