{
 "cells": [
  {
   "attachments": {},
   "cell_type": "markdown",
   "metadata": {},
   "source": [
    "# Тестирование\n",
    "\n",
    "`python reader.py D:/test/my_books D:/test/database.db`"
   ]
  },
  {
   "attachments": {},
   "cell_type": "markdown",
   "metadata": {},
   "source": [
    "## Тестирование участков кода"
   ]
  },
  {
   "cell_type": "code",
   "execution_count": 3,
   "metadata": {},
   "outputs": [
    {
     "name": "stdout",
     "output_type": "stream",
     "text": [
      "utf-8\n",
      "\n",
      "utf-8\n",
      "\n",
      "Книга \"1984\" повторяется в ./my_books/|./my_books/ местах \n",
      "Книга \"Метро 2033\" повторяется в ./my_books/|./my_books/|./my_books/advanture местах \n"
     ]
    },
    {
     "name": "stderr",
     "output_type": "stream",
     "text": [
      "c:\\Users\\X\\AppData\\Local\\Programs\\Python\\Python311\\Lib\\site-packages\\ebooklib\\epub.py:1395: UserWarning: In the future version we will turn default option ignore_ncx to True.\n",
      "  warnings.warn('In the future version we will turn default option ignore_ncx to True.')\n"
     ]
    }
   ],
   "source": [
    "import os\n",
    "from version1_0 import Book\n",
    "def check_repeated_path(books, item):\n",
    "    indexes = []\n",
    "    for i,n in enumerate(books):\n",
    "        if books[i][0] == item:\n",
    "            indexes.append(i)\n",
    "    if len(indexes)>1:\n",
    "        return indexes\n",
    "\n",
    "def check_repeated_books(folder_path):\n",
    "    \"\"\"Process all books in the given folder and its subfolders\"\"\"\n",
    "    books = []\n",
    "    repeated_dirs = []\n",
    "    for root, dirs, files in os.walk(folder_path):\n",
    "        for file in files:\n",
    "            path = os.path.join(root, file)\n",
    "            book = Book(path)\n",
    "            book_title = book.extract_metadata()\n",
    "            books.append([book_title,root])\n",
    "    printed = []\n",
    "    \n",
    "    for book in books:\n",
    "        direction = []\n",
    "        repeated_books = check_repeated_path(books,book[0])\n",
    "        if repeated_books and book[0] not in printed:\n",
    "            \n",
    "            for rp in repeated_books:\n",
    "                direction.append(books[rp][1])\n",
    "            print(f'Книга \"{book[0]}\" повторяется в { \"|\".join(direction) } местах ')\n",
    "            printed.append(book[0])\n",
    "            \n",
    "            \n",
    "check_repeated_books('./my_books/')"
   ]
  },
  {
   "cell_type": "code",
   "execution_count": 5,
   "metadata": {},
   "outputs": [
    {
     "data": {
      "text/plain": [
       "'D:\\x04 семестр\\\\Курсовой-проект\\\\my_books.jpg'"
      ]
     },
     "execution_count": 5,
     "metadata": {},
     "output_type": "execute_result"
    }
   ],
   "source": [
    "os.path.splitext('D:\\4 семестр\\Курсовой-проект\\my_books')[0] + '.jpg'"
   ]
  },
  {
   "cell_type": "code",
   "execution_count": 17,
   "metadata": {},
   "outputs": [
    {
     "name": "stdout",
     "output_type": "stream",
     "text": [
      "my_books\\1984 copy.jpg\n",
      "my_books\\1984.jpg\n",
      "my_books\\Metro-2033.jpg\n",
      "my_books\\Metro-2033.jpg\n",
      "my_books\\advanture\\Metro-2033.jpg\n"
     ]
    }
   ],
   "source": [
    "import os\n",
    "from version1_0 import Book\n",
    "\n",
    "def process_book(path):\n",
    "    \"\"\"Process single book and save its information to SQLite database\"\"\"\n",
    "    book = Book(path)\n",
    "    try:\n",
    "        preview_path = os.path.splitext(path)[0] + '.jpg'\n",
    "        return preview_path\n",
    "    except Exception as e:\n",
    "        print(f'Error processing file {path}: {e}')\n",
    "\n",
    "\n",
    "def process_folder(folder_path):\n",
    "    \"\"\"Process all books in the given folder and its subfolders\"\"\"\n",
    "\n",
    "    for root, dirs, files in os.walk(folder_path):\n",
    "        for file in files:\n",
    "            _, ext = os.path.splitext(file)\n",
    "            if ext.lower() not in ['.pdf', '.epub', '.txt','.fb2']:\n",
    "                continue\n",
    "            path = os.path.join(root, file)\n",
    "            print(process_book(path))\n",
    "process_folder('my_books')"
   ]
  },
  {
   "cell_type": "code",
   "execution_count": 3,
   "metadata": {},
   "outputs": [
    {
     "name": "stdout",
     "output_type": "stream",
     "text": [
      "[1, 2, 3, 4, 5, 6, 7, 8, 9, 10, 11, 12, 13, 14, 15]\n"
     ]
    },
    {
     "data": {
      "text/plain": [
       "[1, 2, 3, 4, 5]"
      ]
     },
     "execution_count": 3,
     "metadata": {},
     "output_type": "execute_result"
    }
   ],
   "source": [
    "pages_to_select = [x for x in range(1,16)]\n",
    "print(pages_to_select)\n",
    "count_of_books_on_page = 5\n",
    "page_n = 1\n",
    "count_of_missed_left = count_of_books_on_page*(page_n - 1)\n",
    "if page_n<5:\n",
    "    pages_to_select = pages_to_select[:count_of_books_on_page*page_n:1]\n",
    "pages_to_select = pages_to_select[count_of_missed_left:]\n",
    "pages_to_select"
   ]
  },
  {
   "cell_type": "code",
   "execution_count": 8,
   "metadata": {},
   "outputs": [],
   "source": [
    "from selenium import webdriver\n",
    "file = 'D:/test/my_books/Three_comrades.epub'\n",
    "file_url = 'file:///'+file\n",
    "driver = webdriver.Chrome()\n",
    "driver.get(file_url)"
   ]
  },
  {
   "cell_type": "code",
   "execution_count": 6,
   "metadata": {},
   "outputs": [
    {
     "name": "stdout",
     "output_type": "stream",
     "text": [
      "2023-06-22\n"
     ]
    }
   ],
   "source": [
    "from datetime import datetime\n",
    "\n",
    "print(datetime.date(datetime.now()))"
   ]
  },
  {
   "cell_type": "code",
   "execution_count": 22,
   "metadata": {},
   "outputs": [
    {
     "name": "stdout",
     "output_type": "stream",
     "text": [
      "\u001b[40m\u001b[35mКнига '1984' повторяется в D:/test/my_books 2 раза\n",
      "\u001b[40m\u001b[35mКнига 'Метро 2033' повторяется в D:/test/my_books 3 раза, D:/test/my_books\\Adventure 1 раза\n"
     ]
    },
    {
     "name": "stderr",
     "output_type": "stream",
     "text": [
      "c:\\Users\\X\\AppData\\Local\\Programs\\Python\\Python311\\Lib\\site-packages\\ebooklib\\epub.py:1395: UserWarning: In the future version we will turn default option ignore_ncx to True.\n",
      "  warnings.warn('In the future version we will turn default option ignore_ncx to True.')\n"
     ]
    }
   ],
   "source": [
    "from version1_0 import Book_pdf,Book_epub,Book_fb2,Book_txt\n",
    "from colorama import Style, Back, Fore\n",
    "import os\n",
    "from collections import Counter\n",
    "\n",
    "def check_repeated_path(books, item):\n",
    "    indexes = []\n",
    "    for i,n in enumerate(books):\n",
    "        if books[i][0] == item:\n",
    "            indexes.append(i)\n",
    "    if len(indexes)>1:\n",
    "        return indexes\n",
    "\n",
    "def count_books(directions:list)->str:\n",
    "    \"\"\"Подсчитыает количество книг повторяющихся в директориях\n",
    "\n",
    "    Args:\n",
    "        direction (list): массив строк с директориями, где повторяется книга\n",
    "\n",
    "    Returns:\n",
    "        str: стркоа, в которой указаны директории и количество раз сколько этот путь встречался\n",
    "    \"\"\"\n",
    "    resulting = Counter(directions)\n",
    "    result = 'повторяется в '\n",
    "    count=0\n",
    "    for k,v in resulting.items():\n",
    "        count+=1\n",
    "        if count>1: result += ', '\n",
    "        result += k +\" \"+ str(v) + \" раза\"\n",
    "    return result\n",
    "    \n",
    "def check_repeated_books(folder_path):\n",
    "    \"\"\"Проверяет повторяющиеся книги в разных папках\"\"\"\n",
    "    books = []\n",
    "    folder_path = folder_path.replace(\"\\\\\", \"/\")\n",
    "    repeated_dirs = []\n",
    "    for root,dirs, files in os.walk(folder_path):\n",
    "        for file in files:\n",
    "            path = os.path.join(root, file)\n",
    "            _, ext = os.path.splitext(path)\n",
    "            book = None\n",
    "            match ext:\n",
    "                case '.pdf':\n",
    "                    book = Book_pdf(path)\n",
    "                    book_title = book.extract_metadata()\n",
    "                    books.append([book_title,root])\n",
    "                case '.txt':\n",
    "                    book = Book_txt(path)\n",
    "                    book_title = book.extract_metadata()\n",
    "                    books.append([book_title,root])\n",
    "                case '.epub':\n",
    "                    book = Book_epub(path)\n",
    "                    book_title = book.extract_metadata()\n",
    "                    books.append([book_title,root])\n",
    "                case '.fb2':\n",
    "                    book = Book_fb2(path)\n",
    "                    book_title = book.extract_metadata()\n",
    "                    books.append([book_title,root])\n",
    "                case _:\n",
    "                    continue\n",
    "            \n",
    "    printed = [None,]\n",
    "    \n",
    "    for book in books:\n",
    "        direction = []\n",
    "        repeated_books = check_repeated_path(books,book[0])\n",
    "        if repeated_books and book[0] not in printed:\n",
    "            for rp in repeated_books:\n",
    "                direction.append(books[rp][1])\n",
    "                #если пути одинаковые, то пишу количество раз они повторяются в этой папке, иначе указываю пути\n",
    "            result = count_books(direction)\n",
    "            print(Back.BLACK + Fore.MAGENTA +f\"Книга '{book[0]}' {result}\")\n",
    "            printed.append(book[0])\n",
    "            \n",
    "check_repeated_books(\"D:\\\\test\\\\my_books\")"
   ]
  },
  {
   "cell_type": "code",
   "execution_count": 3,
   "metadata": {},
   "outputs": [
    {
     "name": "stdout",
     "output_type": "stream",
     "text": [
      "D:/test/my_books\\1984 — копия.fb2\n",
      "D:/test/my_books\\1984 — копия.jpg\n",
      "D:/test/my_books\\1984.fb2\n",
      "D:/test/my_books\\1984.jpg\n",
      "D:/test/my_books\\Metro-2033.epub\n",
      "D:/test/my_books\\Metro-2033.jpg\n",
      "D:/test/my_books\\Metro-2033.pdf\n",
      "D:/test/my_books\\Metro-2033.txt\n",
      "D:/test/my_books\\Adventure\n",
      "D:/test/my_books\\Adventure\\Metro-2033.jpg\n",
      "D:/test/my_books\\Adventure\\Metro-2033.pdf\n"
     ]
    }
   ],
   "source": [
    "import os\n",
    "\n",
    "folderpath = \"D:\\\\test\\\\my_books\"\n",
    "folderpath_new = folderpath.replace(\"\\u005c\", \"/\")\n",
    "\n",
    "\n",
    "for root, dirs, files in os.walk(folderpath_new):\n",
    "   for name in files:\n",
    "      print(os.path.join(root, name))\n",
    "   for name in dirs:\n",
    "      print(os.path.join(root, name))"
   ]
  },
  {
   "cell_type": "code",
   "execution_count": 1,
   "metadata": {},
   "outputs": [
    {
     "name": "stdout",
     "output_type": "stream",
     "text": [
      "Джордж Оруэлл\n"
     ]
    },
    {
     "data": {
      "text/plain": [
       "1984 by Джордж Оруэлл (1949, 12 pages)"
      ]
     },
     "execution_count": 1,
     "metadata": {},
     "output_type": "execute_result"
    }
   ],
   "source": [
    "from version1_0 import Book_pdf,Book_epub,Book_fb2,Book_txt\n",
    "new_book = Book_fb2('D:\\\\test\\\\my_books\\\\1984.fb2')\n",
    "print(new_book.extract_metadata())\n",
    "new_book"
   ]
  },
  {
   "cell_type": "code",
   "execution_count": 1,
   "metadata": {},
   "outputs": [],
   "source": [
    "import sqlite3\n",
    "from prettytable import from_db_cursor\n",
    "\n",
    "db_name = 'D:\\\\test\\\\database.db'\n",
    "#  выполнять в оперативке\n",
    "#db_name = ':memory:'\n",
    "db = sqlite3.connect(db_name)\n",
    "cur = db.cursor()"
   ]
  },
  {
   "cell_type": "code",
   "execution_count": 14,
   "metadata": {},
   "outputs": [
    {
     "data": {
      "text/html": [
       "<table>\n",
       "    <thead>\n",
       "        <tr>\n",
       "            <th>id</th>\n",
       "            <th>title</th>\n",
       "            <th>author</th>\n",
       "            <th>year</th>\n",
       "            <th>ext</th>\n",
       "            <th>file_hash</th>\n",
       "        </tr>\n",
       "    </thead>\n",
       "    <tbody>\n",
       "        <tr>\n",
       "            <td>1</td>\n",
       "            <td>Метро 2033</td>\n",
       "            <td>Дмитрий Глуховский</td>\n",
       "            <td>no info</td>\n",
       "            <td>.txt</td>\n",
       "            <td>a49c7f0e15498fabc4ee8a9b79a08eb061235fa1e71659c72f41f4f87d637672</td>\n",
       "        </tr>\n",
       "    </tbody>\n",
       "</table>"
      ],
      "text/plain": [
       "+----+------------+--------------------+---------+------+------------------------------------------------------------------+\n",
       "| id |   title    |       author       |   year  | ext  |                            file_hash                             |\n",
       "+----+------------+--------------------+---------+------+------------------------------------------------------------------+\n",
       "| 1  | Метро 2033 | Дмитрий Глуховский | no info | .txt | a49c7f0e15498fabc4ee8a9b79a08eb061235fa1e71659c72f41f4f87d637672 |\n",
       "+----+------------+--------------------+---------+------+------------------------------------------------------------------+"
      ]
     },
     "metadata": {},
     "output_type": "display_data"
    },
    {
     "data": {
      "text/html": [
       "<table>\n",
       "    <thead>\n",
       "        <tr>\n",
       "            <th>id</th>\n",
       "            <th>title</th>\n",
       "            <th>author</th>\n",
       "            <th>year</th>\n",
       "            <th>ext</th>\n",
       "            <th>file_hash</th>\n",
       "        </tr>\n",
       "    </thead>\n",
       "    <tbody>\n",
       "        <tr>\n",
       "            <td>1</td>\n",
       "            <td>Метро 2033</td>\n",
       "            <td>Дмитрий Алексеевич Глуховский</td>\n",
       "            <td>2005</td>\n",
       "            <td>.epub</td>\n",
       "            <td>53fb7a897573c0aeee6fd0b9cfb18fb8d4e8a454515294bf4b35e69a6a3c8a8b</td>\n",
       "        </tr>\n",
       "    </tbody>\n",
       "</table>"
      ],
      "text/plain": [
       "+----+------------+-------------------------------+------+-------+------------------------------------------------------------------+\n",
       "| id |   title    |             author            | year |  ext  |                            file_hash                             |\n",
       "+----+------------+-------------------------------+------+-------+------------------------------------------------------------------+\n",
       "| 1  | Метро 2033 | Дмитрий Алексеевич Глуховский | 2005 | .epub | 53fb7a897573c0aeee6fd0b9cfb18fb8d4e8a454515294bf4b35e69a6a3c8a8b |\n",
       "+----+------------+-------------------------------+------+-------+------------------------------------------------------------------+"
      ]
     },
     "metadata": {},
     "output_type": "display_data"
    }
   ],
   "source": [
    "cur.execute('SELECT id,title,author,year,ext,file_hash FROM books_txt')\n",
    "display(from_db_cursor(cur))\n",
    "\n",
    "cur.execute('SELECT id,title,author,year,ext,file_hash FROM books_epub')\n",
    "display(from_db_cursor(cur))\n"
   ]
  },
  {
   "cell_type": "code",
   "execution_count": 40,
   "metadata": {},
   "outputs": [
    {
     "data": {
      "text/html": [
       "<table>\n",
       "    <thead>\n",
       "        <tr>\n",
       "            <th>id</th>\n",
       "            <th>title</th>\n",
       "            <th>author</th>\n",
       "            <th>year</th>\n",
       "            <th>ext</th>\n",
       "            <th>file_hash</th>\n",
       "        </tr>\n",
       "    </thead>\n",
       "    <tbody>\n",
       "        <tr>\n",
       "            <td>1</td>\n",
       "            <td>Метро 2033</td>\n",
       "            <td>Дмитрий Алексеевич Глуховский</td>\n",
       "            <td>2005</td>\n",
       "            <td>.epub</td>\n",
       "            <td>53fb7a897573c0aeee6fd0b9cfb18fb8d4e8a454515294bf4b35e69a6a3c8a8b</td>\n",
       "        </tr>\n",
       "    </tbody>\n",
       "</table>"
      ],
      "text/plain": [
       "+----+------------+-------------------------------+------+-------+------------------------------------------------------------------+\n",
       "| id |   title    |             author            | year |  ext  |                            file_hash                             |\n",
       "+----+------------+-------------------------------+------+-------+------------------------------------------------------------------+\n",
       "| 1  | Метро 2033 | Дмитрий Алексеевич Глуховский | 2005 | .epub | 53fb7a897573c0aeee6fd0b9cfb18fb8d4e8a454515294bf4b35e69a6a3c8a8b |\n",
       "+----+------------+-------------------------------+------+-------+------------------------------------------------------------------+"
      ]
     },
     "metadata": {},
     "output_type": "display_data"
    }
   ],
   "source": [
    "cur.execute(\"SELECT id,title,author,year,ext,file_hash FROM books_epub WHERE title LIKE 'Метро%'\")\n",
    "display(from_db_cursor(cur))"
   ]
  },
  {
   "cell_type": "code",
   "execution_count": 39,
   "metadata": {},
   "outputs": [
    {
     "data": {
      "text/html": [
       "<table>\n",
       "    <thead>\n",
       "        <tr>\n",
       "            <th>LOWER(author)</th>\n",
       "        </tr>\n",
       "    </thead>\n",
       "    <tbody>\n",
       "        <tr>\n",
       "            <td>Дмитрий Алексеевич Глуховский</td>\n",
       "        </tr>\n",
       "    </tbody>\n",
       "</table>"
      ],
      "text/plain": [
       "+-------------------------------+\n",
       "|         LOWER(author)         |\n",
       "+-------------------------------+\n",
       "| Дмитрий Алексеевич Глуховский |\n",
       "+-------------------------------+"
      ]
     },
     "metadata": {},
     "output_type": "display_data"
    }
   ],
   "source": [
    "cur.execute(\"SELECT LOWER(author) FROM books_epub \")\n",
    "display(from_db_cursor(cur))"
   ]
  },
  {
   "cell_type": "code",
   "execution_count": 48,
   "metadata": {},
   "outputs": [
    {
     "name": "stdout",
     "output_type": "stream",
     "text": [
      "[1, 'Метро 2033', 'Дмитрий Алексеевич Глуховский', '2005', '.epub', '53fb7a897573c0aeee6fd0b9cfb18fb8d4e8a454515294bf4b35e69a6a3c8a8b']\n",
      "id = 1\n"
     ]
    }
   ],
   "source": [
    "cur.execute(\"SELECT id,title,author,year,ext,file_hash FROM books_epub \")\n",
    "s = list(*cur)\n",
    "print(s)\n",
    "print(f\"id = {s[0]}\")"
   ]
  },
  {
   "cell_type": "code",
   "execution_count": 69,
   "metadata": {},
   "outputs": [
    {
     "data": {
      "text/plain": [
       "[[1,\n",
       "  'Метро 2033',\n",
       "  'Дмитрий Алексеевич Глуховский',\n",
       "  '2005',\n",
       "  '.epub',\n",
       "  '53fb7a897573c0aeee6fd0b9cfb18fb8d4e8a454515294bf4b35e69a6a3c8a8b'],\n",
       " [2,\n",
       "  'Три товарища',\n",
       "  'Эрих Мария  Ремарк',\n",
       "  '1936',\n",
       "  '.epub',\n",
       "  'd404a18245c38d1c75f4bbbe49c14dd923d569bc7c2e9b002eac495457ae1fba']]"
      ]
     },
     "metadata": {},
     "output_type": "display_data"
    }
   ],
   "source": [
    "result = []\n",
    "def something(extension = 'epub', to_search = ''):\n",
    "    query = cur.execute(f\"SELECT id,title,author,year,ext,file_hash FROM books_{extension} WHERE title LIKE '%{to_search}%' OR author LIKE '%{to_search}%'\")\n",
    "    for line in query:\n",
    "        s = list(line)\n",
    "        result.append(s)\n",
    "    \n",
    "something()\n",
    "display(result)"
   ]
  },
  {
   "attachments": {},
   "cell_type": "markdown",
   "metadata": {},
   "source": [
    "## Тестирование консоли"
   ]
  },
  {
   "cell_type": "code",
   "execution_count": 3,
   "metadata": {},
   "outputs": [
    {
     "name": "stdout",
     "output_type": "stream",
     "text": [
      "usage: reader.py [-h]\n",
      "                 {check_repeated_books,process_folder,start_web_server} ...\n",
      "\n",
      "positional arguments:\n",
      "  {check_repeated_books,process_folder,start_web_server}\n",
      "\n",
      "options:\n",
      "  -h, --help            show this help message and exit\n"
     ]
    }
   ],
   "source": [
    "!py reader.py -h"
   ]
  },
  {
   "cell_type": "code",
   "execution_count": 4,
   "metadata": {},
   "outputs": [
    {
     "name": "stdout",
     "output_type": "stream",
     "text": [
      "\u001b[40m\u001b[35mКнига '1984' повторяется в D://test//my_books 2 раза\n",
      "\u001b[40m\u001b[35mКнига 'Метро 2033' повторяется в D://test//my_books 2 раза, D://test//my_books\\Adventure 1 раза\n"
     ]
    },
    {
     "name": "stderr",
     "output_type": "stream",
     "text": [
      "C:\\Users\\X\\AppData\\Local\\Programs\\Python\\Python311\\Lib\\site-packages\\ebooklib\\epub.py:1395: UserWarning: In the future version we will turn default option ignore_ncx to True.\n",
      "  warnings.warn('In the future version we will turn default option ignore_ncx to True.')\n"
     ]
    }
   ],
   "source": [
    "!py reader.py check_repeated_books \"D:\\\\test\\\\my_books\" "
   ]
  },
  {
   "cell_type": "code",
   "execution_count": 1,
   "metadata": {},
   "outputs": [
    {
     "name": "stdout",
     "output_type": "stream",
     "text": [
      "D:/test/my_books D:/test/database8.db\n",
      "\u001b[36mПроизошло обновление книги \"1984\"\n",
      "\u001b[33mДля книги D:/test/my_books\\1984.fb2 создано превью тут: D:/test/my_books\\1984.jpg\n",
      "\u001b[36mПроизошло обновление книги \"Идиот\"\n",
      "\u001b[33mДля книги D:/test/my_books\\idiot.epub создано превью тут: D:/test/my_books\\idiot.jpg\n",
      "\u001b[36mПроизошло обновление книги \"Идиот\"\n",
      "\u001b[33mДля книги D:/test/my_books\\idiot.pdf создано превью тут: D:/test/my_books\\idiot.jpg\n",
      "\u001b[36mПроизошло обновление книги \"Метро 2033\"\n",
      "\u001b[33mДля книги D:/test/my_books\\Metro-2033.epub создано превью тут: D:/test/my_books\\Metro-2033.jpg\n",
      "\u001b[36mПроизошло обновление книги \"Метро 2033\"\n",
      "\u001b[33mДля книги D:/test/my_books\\Metro-2033.pdf создано превью тут: D:/test/my_books\\Metro-2033.jpg\n",
      "\u001b[36mПроизошло обновление книги \"D:/test/my_books\\Metro-2034.txt\"\n",
      "\u001b[36mПроизошло обновление книги \"Преступление и наказание\"\n",
      "\u001b[33mДля книги D:/test/my_books\\prestuplenie-i-nakazanie.epub создано превью тут: D:/test/my_books\\prestuplenie-i-nakazanie.jpg\n",
      "\u001b[36mПроизошло обновление книги \"Три товарища\"\n",
      "\u001b[33mДля книги D:/test/my_books\\Three_comrades.epub создано превью тут: D:/test/my_books\\Three_comrades.jpg\n"
     ]
    },
    {
     "name": "stderr",
     "output_type": "stream",
     "text": [
      "C:\\Users\\X\\AppData\\Local\\Programs\\Python\\Python311\\Lib\\site-packages\\ebooklib\\epub.py:1395: UserWarning: In the future version we will turn default option ignore_ncx to True.\n",
      "  warnings.warn('In the future version we will turn default option ignore_ncx to True.')\n"
     ]
    }
   ],
   "source": [
    "!py reader.py process_folder D:/test/my_books D:/test/database8.db"
   ]
  },
  {
   "cell_type": "code",
   "execution_count": 6,
   "metadata": {},
   "outputs": [
    {
     "name": "stdout",
     "output_type": "stream",
     "text": [
      "^C\n"
     ]
    }
   ],
   "source": [
    "!py reader.py start_web_server \"D:\\\\test\\\\database4.db \""
   ]
  }
 ],
 "metadata": {
  "kernelspec": {
   "display_name": "Python 3",
   "language": "python",
   "name": "python3"
  },
  "language_info": {
   "codemirror_mode": {
    "name": "ipython",
    "version": 3
   },
   "file_extension": ".py",
   "mimetype": "text/x-python",
   "name": "python",
   "nbconvert_exporter": "python",
   "pygments_lexer": "ipython3",
   "version": "3.11.2"
  },
  "orig_nbformat": 4
 },
 "nbformat": 4,
 "nbformat_minor": 2
}
