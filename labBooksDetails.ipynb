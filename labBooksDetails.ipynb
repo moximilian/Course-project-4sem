{
 "cells": [
  {
   "attachments": {},
   "cell_type": "markdown",
   "metadata": {},
   "source": [
    "## Инструмент исследования данных из файлов с книгами (pdf, …)\n"
   ]
  },
  {
   "attachments": {},
   "cell_type": "markdown",
   "metadata": {},
   "source": [
    "Имеет следующий функционал:\n"
   ]
  },
  {
   "cell_type": "code",
   "execution_count": 1,
   "metadata": {},
   "outputs": [],
   "source": [
    "from version1_0 import Book\n",
    "import os\n",
    "import sqlite3\n",
    "from prettytable import from_db_cursor"
   ]
  },
  {
   "cell_type": "code",
   "execution_count": 2,
   "metadata": {},
   "outputs": [
    {
     "name": "stderr",
     "output_type": "stream",
     "text": [
      "c:\\Users\\X\\AppData\\Local\\Programs\\Python\\Python311\\Lib\\site-packages\\ebooklib\\epub.py:1395: UserWarning: In the future version we will turn default option ignore_ncx to True.\n",
      "  warnings.warn('In the future version we will turn default option ignore_ncx to True.')\n"
     ]
    },
    {
     "name": "stdout",
     "output_type": "stream",
     "text": [
      "Skipping already processed file: ./my_books/Metro-2033.epub\n",
      "Skipping already processed file: ./my_books/Metro-2033.fb2\n"
     ]
    },
    {
     "ename": "AttributeError",
     "evalue": "'Document' object has no attribute 'getPageImageList'",
     "output_type": "error",
     "traceback": [
      "\u001b[1;31m---------------------------------------------------------------------------\u001b[0m",
      "\u001b[1;31mAttributeError\u001b[0m                            Traceback (most recent call last)",
      "Cell \u001b[1;32mIn[2], line 18\u001b[0m\n\u001b[0;32m     16\u001b[0m     \u001b[39mcontinue\u001b[39;00m\n\u001b[0;32m     17\u001b[0m path \u001b[39m=\u001b[39m os\u001b[39m.\u001b[39mpath\u001b[39m.\u001b[39mjoin(root, file)\n\u001b[1;32m---> 18\u001b[0m process_book(path,\u001b[39m'\u001b[39;49m\u001b[39m./database2.db\u001b[39;49m\u001b[39m'\u001b[39;49m)\n",
      "Cell \u001b[1;32mIn[2], line 7\u001b[0m, in \u001b[0;36mprocess_book\u001b[1;34m(path, database_path)\u001b[0m\n\u001b[0;32m      5\u001b[0m book\u001b[39m.\u001b[39mextract_content()\n\u001b[0;32m      6\u001b[0m book\u001b[39m.\u001b[39mcalculate_hash()\n\u001b[1;32m----> 7\u001b[0m book\u001b[39m.\u001b[39;49mextract_cover()\n\u001b[0;32m      8\u001b[0m book\u001b[39m.\u001b[39msave_to_database(database_path)\n\u001b[0;32m      9\u001b[0m preview_path \u001b[39m=\u001b[39m os\u001b[39m.\u001b[39mpath\u001b[39m.\u001b[39msplitext(path)[\u001b[39m0\u001b[39m] \u001b[39m+\u001b[39m \u001b[39m'\u001b[39m\u001b[39m.jpg\u001b[39m\u001b[39m'\u001b[39m\n",
      "File \u001b[1;32md:\\4 семестр\\Курсовой-проект\\version1_0.py:108\u001b[0m, in \u001b[0;36mBook.extract_cover\u001b[1;34m(self)\u001b[0m\n\u001b[0;32m    106\u001b[0m \u001b[39mif\u001b[39;00m ext\u001b[39m.\u001b[39mlower() \u001b[39m==\u001b[39m \u001b[39m'\u001b[39m\u001b[39m.pdf\u001b[39m\u001b[39m'\u001b[39m:\n\u001b[0;32m    107\u001b[0m     doc \u001b[39m=\u001b[39m fitz\u001b[39m.\u001b[39mopen(\u001b[39mself\u001b[39m\u001b[39m.\u001b[39mpath)\n\u001b[1;32m--> 108\u001b[0m     \u001b[39mfor\u001b[39;00m img \u001b[39min\u001b[39;00m doc\u001b[39m.\u001b[39;49mgetPageImageList(\u001b[39m0\u001b[39m):\n\u001b[0;32m    109\u001b[0m         xref \u001b[39m=\u001b[39m img[\u001b[39m0\u001b[39m]\n\u001b[0;32m    110\u001b[0m         pix \u001b[39m=\u001b[39m fitz\u001b[39m.\u001b[39mPixmap(doc, xref)\n",
      "\u001b[1;31mAttributeError\u001b[0m: 'Document' object has no attribute 'getPageImageList'"
     ]
    }
   ],
   "source": [
    "def process_book(path, database_path):\n",
    "    \"\"\"Process single book and save its information to SQLite database\"\"\"\n",
    "    book = Book(path)\n",
    "    book.extract_metadata()\n",
    "    book.extract_content()\n",
    "    book.calculate_hash()\n",
    "    book.extract_cover()\n",
    "    book.save_to_database(database_path)\n",
    "    preview_path = os.path.splitext(path)[0] + '.jpg'\n",
    "    # book.generate_preview(preview_path)\n",
    "\n",
    "for root, dirs, files in os.walk('./my_books/'):\n",
    "        for file in files:\n",
    "            _, ext = os.path.splitext(file)\n",
    "            if ext.lower() not in ['.pdf', '.epub', '.txt','.fb2']:\n",
    "                continue\n",
    "            path = os.path.join(root, file)\n",
    "            process_book(path,'./database2.db')"
   ]
  },
  {
   "cell_type": "code",
   "execution_count": 4,
   "metadata": {},
   "outputs": [],
   "source": [
    "db = sqlite3.connect('./database.db')\n",
    "cur = db.cursor()\n",
    "cur.execute('SELECT * FROM books')\n",
    "from_db_cursor(cur)"
   ]
  }
 ],
 "metadata": {
  "kernelspec": {
   "display_name": "Python 3",
   "language": "python",
   "name": "python3"
  },
  "language_info": {
   "codemirror_mode": {
    "name": "ipython",
    "version": 3
   },
   "file_extension": ".py",
   "mimetype": "text/x-python",
   "name": "python",
   "nbconvert_exporter": "python",
   "pygments_lexer": "ipython3",
   "version": "3.11.2"
  },
  "orig_nbformat": 4
 },
 "nbformat": 4,
 "nbformat_minor": 2
}
