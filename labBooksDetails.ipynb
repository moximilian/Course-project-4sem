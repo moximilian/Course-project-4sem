{
 "cells": [
  {
   "attachments": {},
   "cell_type": "markdown",
   "metadata": {},
   "source": [
    "## Инструмент исследования данных из файлов с книгами (pdf, …)\n"
   ]
  },
  {
   "attachments": {},
   "cell_type": "markdown",
   "metadata": {},
   "source": [
    "Имеет следующий функционал:\n"
   ]
  },
  {
   "cell_type": "code",
   "execution_count": 2,
   "metadata": {},
   "outputs": [
    {
     "name": "stdout",
     "output_type": "stream",
     "text": [
      "utf-8\n",
      "\n",
      "Saved information for ./my_books/1984.fb2 to database\n",
      "./my_books/1984\n",
      "Generated preview for ./my_books/1984.fb2: ./my_books/1984.fb2.jpg\n",
      "Saved information for ./my_books/Metro-2033.epub to database\n",
      "./my_books/Metro-2033\n",
      "Generated preview for ./my_books/Metro-2033.epub: ./my_books/Metro-2033.epub.jpg\n",
      "Saved information for ./my_books/Metro-2033.pdf to database\n",
      "./my_books/Metro-2033\n",
      "Generated preview for ./my_books/Metro-2033.pdf: ./my_books/Metro-2033.pdf.jpg\n",
      "Saved information for ./my_books/Metro-2033.txt to database\n",
      "./my_books/Metro-2033\n"
     ]
    }
   ],
   "source": [
    "from version1_0 import Book\n",
    "import os\n",
    "import sqlite3\n",
    "from prettytable import from_db_cursor\n",
    "\n",
    "def process_book(path, database_path,ext):\n",
    "    book = Book(path)\n",
    "    book.extract_metadata()\n",
    "    book.extract_content()\n",
    "    book.calculate_hash()\n",
    "    book.extract_cover()\n",
    "    book.save_to_database(database_path)\n",
    "    \n",
    "    preview_path = os.path.splitext(path)[0] + str(ext)+'.jpg'\n",
    "    print(os.path.splitext(path)[0])\n",
    "    book.generate_preview(preview_path)\n",
    "\n",
    "for root, dirs, files in os.walk('./my_books/'):\n",
    "        for file in files:\n",
    "            _, ext = os.path.splitext(file)\n",
    "            if ext.lower() not in ['.pdf', '.epub', '.txt','.fb2']:\n",
    "                continue\n",
    "            path = os.path.join(root, file)\n",
    "            process_book(path,'./db1.db',ext)"
   ]
  }
 ],
 "metadata": {
  "kernelspec": {
   "display_name": "Python 3",
   "language": "python",
   "name": "python3"
  },
  "language_info": {
   "codemirror_mode": {
    "name": "ipython",
    "version": 3
   },
   "file_extension": ".py",
   "mimetype": "text/x-python",
   "name": "python",
   "nbconvert_exporter": "python",
   "pygments_lexer": "ipython3",
   "version": "3.11.2"
  },
  "orig_nbformat": 4
 },
 "nbformat": 4,
 "nbformat_minor": 2
}
